{
 "cells": [
  {
   "cell_type": "code",
   "execution_count": 45,
   "id": "3725fad0",
   "metadata": {},
   "outputs": [],
   "source": [
    "# Importing essential libraries\n",
    "import numpy as np\n",
    "import pandas as pd\n",
    "import matplotlib.pyplot as plt\n",
    "import seaborn as sns \n",
    "import plotly.express as px\n",
    "%matplotlib inline\n",
    "\n",
    "import warnings\n",
    "warnings.filterwarnings('ignore')\n",
    "\n",
    "#EDA\n",
    "from statsmodels.stats.outliers_influence import variance_inflation_factor\n",
    "from statsmodels.tools.tools import add_constant\n",
    "from sklearn.preprocessing import MinMaxScaler\n",
    "\n",
    "#importing classification models\n",
    "from sklearn.ensemble import RandomForestClassifier\n",
    "from sklearn.neighbors import KNeighborsClassifier\n",
    "from sklearn.svm import SVC\n",
    "from sklearn.naive_bayes import GaussianNB\n",
    "from sklearn.tree import DecisionTreeClassifier\n",
    "from sklearn.model_selection import cross_val_score, KFold\n",
    "from sklearn.metrics import confusion_matrix, accuracy_score,f1_score\n",
    "from sklearn.metrics import classification_report\n",
    "from xgboost import XGBClassifier\n",
    "from sklearn import metrics\n",
    "from sklearn.linear_model import LogisticRegression\n",
    "from sklearn.model_selection import GridSearchCV"
   ]
  },
  {
   "cell_type": "markdown",
   "id": "8835e549",
   "metadata": {},
   "source": [
    "Dataset from Kaggle: https://www.kaggle.com/datasets/mathchi/diabetes-data-set"
   ]
  },
  {
   "cell_type": "code",
   "execution_count": 1,
   "id": "7631a437",
   "metadata": {},
   "outputs": [],
   "source": [
    "# Loading the dataset\n",
    "df = pd.read_csv('diabetes.csv')"
   ]
  },
  {
   "cell_type": "code",
   "execution_count": 2,
   "id": "4b434466",
   "metadata": {},
   "outputs": [
    {
     "data": {
      "text/html": [
       "<div>\n",
       "<style scoped>\n",
       "    .dataframe tbody tr th:only-of-type {\n",
       "        vertical-align: middle;\n",
       "    }\n",
       "\n",
       "    .dataframe tbody tr th {\n",
       "        vertical-align: top;\n",
       "    }\n",
       "\n",
       "    .dataframe thead th {\n",
       "        text-align: right;\n",
       "    }\n",
       "</style>\n",
       "<table border=\"1\" class=\"dataframe\">\n",
       "  <thead>\n",
       "    <tr style=\"text-align: right;\">\n",
       "      <th></th>\n",
       "      <th>Pregnancies</th>\n",
       "      <th>Glucose</th>\n",
       "      <th>BloodPressure</th>\n",
       "      <th>SkinThickness</th>\n",
       "      <th>Insulin</th>\n",
       "      <th>BMI</th>\n",
       "      <th>DiabetesPedigreeFunction</th>\n",
       "      <th>Age</th>\n",
       "      <th>Outcome</th>\n",
       "    </tr>\n",
       "  </thead>\n",
       "  <tbody>\n",
       "    <tr>\n",
       "      <th>0</th>\n",
       "      <td>2</td>\n",
       "      <td>138</td>\n",
       "      <td>62</td>\n",
       "      <td>35</td>\n",
       "      <td>0</td>\n",
       "      <td>33.6</td>\n",
       "      <td>0.127</td>\n",
       "      <td>47</td>\n",
       "      <td>1</td>\n",
       "    </tr>\n",
       "    <tr>\n",
       "      <th>1</th>\n",
       "      <td>0</td>\n",
       "      <td>84</td>\n",
       "      <td>82</td>\n",
       "      <td>31</td>\n",
       "      <td>125</td>\n",
       "      <td>38.2</td>\n",
       "      <td>0.233</td>\n",
       "      <td>23</td>\n",
       "      <td>0</td>\n",
       "    </tr>\n",
       "    <tr>\n",
       "      <th>2</th>\n",
       "      <td>0</td>\n",
       "      <td>145</td>\n",
       "      <td>0</td>\n",
       "      <td>0</td>\n",
       "      <td>0</td>\n",
       "      <td>44.2</td>\n",
       "      <td>0.630</td>\n",
       "      <td>31</td>\n",
       "      <td>1</td>\n",
       "    </tr>\n",
       "    <tr>\n",
       "      <th>3</th>\n",
       "      <td>0</td>\n",
       "      <td>135</td>\n",
       "      <td>68</td>\n",
       "      <td>42</td>\n",
       "      <td>250</td>\n",
       "      <td>42.3</td>\n",
       "      <td>0.365</td>\n",
       "      <td>24</td>\n",
       "      <td>1</td>\n",
       "    </tr>\n",
       "    <tr>\n",
       "      <th>4</th>\n",
       "      <td>1</td>\n",
       "      <td>139</td>\n",
       "      <td>62</td>\n",
       "      <td>41</td>\n",
       "      <td>480</td>\n",
       "      <td>40.7</td>\n",
       "      <td>0.536</td>\n",
       "      <td>21</td>\n",
       "      <td>0</td>\n",
       "    </tr>\n",
       "  </tbody>\n",
       "</table>\n",
       "</div>"
      ],
      "text/plain": [
       "   Pregnancies  Glucose  BloodPressure  SkinThickness  Insulin   BMI  \\\n",
       "0            2      138             62             35        0  33.6   \n",
       "1            0       84             82             31      125  38.2   \n",
       "2            0      145              0              0        0  44.2   \n",
       "3            0      135             68             42      250  42.3   \n",
       "4            1      139             62             41      480  40.7   \n",
       "\n",
       "   DiabetesPedigreeFunction  Age  Outcome  \n",
       "0                     0.127   47        1  \n",
       "1                     0.233   23        0  \n",
       "2                     0.630   31        1  \n",
       "3                     0.365   24        1  \n",
       "4                     0.536   21        0  "
      ]
     },
     "execution_count": 2,
     "metadata": {},
     "output_type": "execute_result"
    }
   ],
   "source": [
    "df.head()"
   ]
  },
  {
   "cell_type": "markdown",
   "id": "d39f8c36",
   "metadata": {},
   "source": [
    "Dataset description:\n",
    "* Pregnancies: Number of times pregnant\n",
    "* Glucose: Plasma glucose concentration a 2 hours in an oral glucose tolerance test\n",
    "* BloodPressure: Diastolic blood pressure (mm Hg)\n",
    "* SkinThickness: Triceps skin fold thickness (mm)\n",
    "* Insulin: 2-Hour serum insulin (mu U/ml)\n",
    "* BMI: Body mass index (weight in kg/(height in m)^2)\n",
    "* DiabetesPedigreeFunction: Diabetes pedigree function\n",
    "* Age: Age (years)\n",
    "* Outcome: Class variable (0 or 1)"
   ]
  },
  {
   "cell_type": "code",
   "execution_count": 4,
   "id": "276a7d20",
   "metadata": {},
   "outputs": [
    {
     "name": "stdout",
     "output_type": "stream",
     "text": [
      "<class 'pandas.core.frame.DataFrame'>\n",
      "RangeIndex: 2000 entries, 0 to 1999\n",
      "Data columns (total 9 columns):\n",
      " #   Column                    Non-Null Count  Dtype  \n",
      "---  ------                    --------------  -----  \n",
      " 0   Pregnancies               2000 non-null   int64  \n",
      " 1   Glucose                   2000 non-null   int64  \n",
      " 2   BloodPressure             2000 non-null   int64  \n",
      " 3   SkinThickness             2000 non-null   int64  \n",
      " 4   Insulin                   2000 non-null   int64  \n",
      " 5   BMI                       2000 non-null   float64\n",
      " 6   DiabetesPedigreeFunction  2000 non-null   float64\n",
      " 7   Age                       2000 non-null   int64  \n",
      " 8   Outcome                   2000 non-null   int64  \n",
      "dtypes: float64(2), int64(7)\n",
      "memory usage: 140.8 KB\n"
     ]
    }
   ],
   "source": [
    "df.info()"
   ]
  },
  {
   "cell_type": "markdown",
   "id": "e344e4a1",
   "metadata": {},
   "source": [
    "# Exploratory Data Analysis (EDA)"
   ]
  },
  {
   "cell_type": "code",
   "execution_count": 11,
   "id": "3cb31fe4",
   "metadata": {},
   "outputs": [
    {
     "data": {
      "text/plain": [
       "0    1316\n",
       "1     684\n",
       "Name: Outcome, dtype: int64"
      ]
     },
     "execution_count": 11,
     "metadata": {},
     "output_type": "execute_result"
    }
   ],
   "source": [
    "df['Outcome'].value_counts()"
   ]
  },
  {
   "cell_type": "markdown",
   "id": "b1f07e1e",
   "metadata": {},
   "source": [
    "The dataset in imbalanced, sampling is necessary to avoid bias in the model."
   ]
  },
  {
   "cell_type": "code",
   "execution_count": 6,
   "id": "e19bb5dc",
   "metadata": {},
   "outputs": [
    {
     "data": {
      "text/html": [
       "<div>\n",
       "<style scoped>\n",
       "    .dataframe tbody tr th:only-of-type {\n",
       "        vertical-align: middle;\n",
       "    }\n",
       "\n",
       "    .dataframe tbody tr th {\n",
       "        vertical-align: top;\n",
       "    }\n",
       "\n",
       "    .dataframe thead th {\n",
       "        text-align: right;\n",
       "    }\n",
       "</style>\n",
       "<table border=\"1\" class=\"dataframe\">\n",
       "  <thead>\n",
       "    <tr style=\"text-align: right;\">\n",
       "      <th></th>\n",
       "      <th>count</th>\n",
       "      <th>mean</th>\n",
       "      <th>std</th>\n",
       "      <th>min</th>\n",
       "      <th>25%</th>\n",
       "      <th>50%</th>\n",
       "      <th>75%</th>\n",
       "      <th>max</th>\n",
       "    </tr>\n",
       "  </thead>\n",
       "  <tbody>\n",
       "    <tr>\n",
       "      <th>Pregnancies</th>\n",
       "      <td>2000.0</td>\n",
       "      <td>3.70350</td>\n",
       "      <td>3.306063</td>\n",
       "      <td>0.000</td>\n",
       "      <td>1.000</td>\n",
       "      <td>3.000</td>\n",
       "      <td>6.000</td>\n",
       "      <td>17.00</td>\n",
       "    </tr>\n",
       "    <tr>\n",
       "      <th>Glucose</th>\n",
       "      <td>2000.0</td>\n",
       "      <td>121.18250</td>\n",
       "      <td>32.068636</td>\n",
       "      <td>0.000</td>\n",
       "      <td>99.000</td>\n",
       "      <td>117.000</td>\n",
       "      <td>141.000</td>\n",
       "      <td>199.00</td>\n",
       "    </tr>\n",
       "    <tr>\n",
       "      <th>BloodPressure</th>\n",
       "      <td>2000.0</td>\n",
       "      <td>69.14550</td>\n",
       "      <td>19.188315</td>\n",
       "      <td>0.000</td>\n",
       "      <td>63.500</td>\n",
       "      <td>72.000</td>\n",
       "      <td>80.000</td>\n",
       "      <td>122.00</td>\n",
       "    </tr>\n",
       "    <tr>\n",
       "      <th>SkinThickness</th>\n",
       "      <td>2000.0</td>\n",
       "      <td>20.93500</td>\n",
       "      <td>16.103243</td>\n",
       "      <td>0.000</td>\n",
       "      <td>0.000</td>\n",
       "      <td>23.000</td>\n",
       "      <td>32.000</td>\n",
       "      <td>110.00</td>\n",
       "    </tr>\n",
       "    <tr>\n",
       "      <th>Insulin</th>\n",
       "      <td>2000.0</td>\n",
       "      <td>80.25400</td>\n",
       "      <td>111.180534</td>\n",
       "      <td>0.000</td>\n",
       "      <td>0.000</td>\n",
       "      <td>40.000</td>\n",
       "      <td>130.000</td>\n",
       "      <td>744.00</td>\n",
       "    </tr>\n",
       "    <tr>\n",
       "      <th>BMI</th>\n",
       "      <td>2000.0</td>\n",
       "      <td>32.19300</td>\n",
       "      <td>8.149901</td>\n",
       "      <td>0.000</td>\n",
       "      <td>27.375</td>\n",
       "      <td>32.300</td>\n",
       "      <td>36.800</td>\n",
       "      <td>80.60</td>\n",
       "    </tr>\n",
       "    <tr>\n",
       "      <th>DiabetesPedigreeFunction</th>\n",
       "      <td>2000.0</td>\n",
       "      <td>0.47093</td>\n",
       "      <td>0.323553</td>\n",
       "      <td>0.078</td>\n",
       "      <td>0.244</td>\n",
       "      <td>0.376</td>\n",
       "      <td>0.624</td>\n",
       "      <td>2.42</td>\n",
       "    </tr>\n",
       "    <tr>\n",
       "      <th>Age</th>\n",
       "      <td>2000.0</td>\n",
       "      <td>33.09050</td>\n",
       "      <td>11.786423</td>\n",
       "      <td>21.000</td>\n",
       "      <td>24.000</td>\n",
       "      <td>29.000</td>\n",
       "      <td>40.000</td>\n",
       "      <td>81.00</td>\n",
       "    </tr>\n",
       "    <tr>\n",
       "      <th>Outcome</th>\n",
       "      <td>2000.0</td>\n",
       "      <td>0.34200</td>\n",
       "      <td>0.474498</td>\n",
       "      <td>0.000</td>\n",
       "      <td>0.000</td>\n",
       "      <td>0.000</td>\n",
       "      <td>1.000</td>\n",
       "      <td>1.00</td>\n",
       "    </tr>\n",
       "  </tbody>\n",
       "</table>\n",
       "</div>"
      ],
      "text/plain": [
       "                           count       mean         std     min     25%  \\\n",
       "Pregnancies               2000.0    3.70350    3.306063   0.000   1.000   \n",
       "Glucose                   2000.0  121.18250   32.068636   0.000  99.000   \n",
       "BloodPressure             2000.0   69.14550   19.188315   0.000  63.500   \n",
       "SkinThickness             2000.0   20.93500   16.103243   0.000   0.000   \n",
       "Insulin                   2000.0   80.25400  111.180534   0.000   0.000   \n",
       "BMI                       2000.0   32.19300    8.149901   0.000  27.375   \n",
       "DiabetesPedigreeFunction  2000.0    0.47093    0.323553   0.078   0.244   \n",
       "Age                       2000.0   33.09050   11.786423  21.000  24.000   \n",
       "Outcome                   2000.0    0.34200    0.474498   0.000   0.000   \n",
       "\n",
       "                              50%      75%     max  \n",
       "Pregnancies                 3.000    6.000   17.00  \n",
       "Glucose                   117.000  141.000  199.00  \n",
       "BloodPressure              72.000   80.000  122.00  \n",
       "SkinThickness              23.000   32.000  110.00  \n",
       "Insulin                    40.000  130.000  744.00  \n",
       "BMI                        32.300   36.800   80.60  \n",
       "DiabetesPedigreeFunction    0.376    0.624    2.42  \n",
       "Age                        29.000   40.000   81.00  \n",
       "Outcome                     0.000    1.000    1.00  "
      ]
     },
     "execution_count": 6,
     "metadata": {},
     "output_type": "execute_result"
    }
   ],
   "source": [
    "df.describe().T"
   ]
  },
  {
   "cell_type": "code",
   "execution_count": 7,
   "id": "03c04774",
   "metadata": {},
   "outputs": [
    {
     "data": {
      "text/plain": [
       "Pregnancies                 0\n",
       "Glucose                     0\n",
       "BloodPressure               0\n",
       "SkinThickness               0\n",
       "Insulin                     0\n",
       "BMI                         0\n",
       "DiabetesPedigreeFunction    0\n",
       "Age                         0\n",
       "Outcome                     0\n",
       "dtype: int64"
      ]
     },
     "execution_count": 7,
     "metadata": {},
     "output_type": "execute_result"
    }
   ],
   "source": [
    "df.isnull().sum()"
   ]
  },
  {
   "cell_type": "markdown",
   "id": "10191b3e",
   "metadata": {},
   "source": [
    "There are no null values in the dataset."
   ]
  },
  {
   "cell_type": "code",
   "execution_count": 26,
   "id": "9f34c91a",
   "metadata": {},
   "outputs": [
    {
     "name": "stdout",
     "output_type": "stream",
     "text": [
      "1     356\n",
      "0     301\n",
      "2     284\n",
      "3     195\n",
      "4     191\n",
      "5     141\n",
      "6     131\n",
      "7     100\n",
      "8      96\n",
      "9      70\n",
      "10     54\n",
      "11     24\n",
      "12     23\n",
      "13     22\n",
      "14      7\n",
      "17      3\n",
      "15      2\n",
      "Name: Pregnancies, dtype: int64\n",
      "99     49\n",
      "100    44\n",
      "102    39\n",
      "129    37\n",
      "112    36\n",
      "       ..\n",
      "67      2\n",
      "191     2\n",
      "44      2\n",
      "62      2\n",
      "177     2\n",
      "Name: Glucose, Length: 136, dtype: int64\n",
      "74     145\n",
      "70     144\n",
      "78     128\n",
      "68     125\n",
      "64     120\n",
      "72     118\n",
      "80      98\n",
      "62      94\n",
      "76      93\n",
      "60      92\n",
      "0       90\n",
      "82      83\n",
      "88      67\n",
      "66      65\n",
      "84      61\n",
      "90      55\n",
      "58      54\n",
      "86      53\n",
      "50      31\n",
      "54      31\n",
      "56      31\n",
      "52      29\n",
      "75      20\n",
      "65      19\n",
      "94      18\n",
      "85      14\n",
      "48      13\n",
      "92      12\n",
      "44      11\n",
      "106      9\n",
      "100      9\n",
      "96       8\n",
      "98       8\n",
      "110      7\n",
      "46       6\n",
      "104      5\n",
      "108      5\n",
      "55       4\n",
      "61       4\n",
      "30       3\n",
      "122      3\n",
      "102      3\n",
      "114      3\n",
      "38       3\n",
      "95       2\n",
      "24       2\n",
      "40       2\n",
      "Name: BloodPressure, dtype: int64\n",
      "0      573\n",
      "32      83\n",
      "30      75\n",
      "23      60\n",
      "27      58\n",
      "28      54\n",
      "18      54\n",
      "39      52\n",
      "33      51\n",
      "31      50\n",
      "25      47\n",
      "37      45\n",
      "22      44\n",
      "29      44\n",
      "40      42\n",
      "19      41\n",
      "17      41\n",
      "41      41\n",
      "26      39\n",
      "36      38\n",
      "15      33\n",
      "35      33\n",
      "20      32\n",
      "24      31\n",
      "42      31\n",
      "13      30\n",
      "21      27\n",
      "46      25\n",
      "12      21\n",
      "34      19\n",
      "38      18\n",
      "43      15\n",
      "14      15\n",
      "16      15\n",
      "11      14\n",
      "45      13\n",
      "10      13\n",
      "44      12\n",
      "48      12\n",
      "49      11\n",
      "50       7\n",
      "47       7\n",
      "8        6\n",
      "54       4\n",
      "52       4\n",
      "56       3\n",
      "51       3\n",
      "7        3\n",
      "63       3\n",
      "59       2\n",
      "60       2\n",
      "99       2\n",
      "110      2\n",
      "Name: SkinThickness, dtype: int64\n",
      "0      956\n",
      "105     31\n",
      "140     24\n",
      "180     23\n",
      "130     22\n",
      "      ... \n",
      "342      2\n",
      "300      2\n",
      "177      2\n",
      "326      1\n",
      "188      1\n",
      "Name: Insulin, Length: 182, dtype: int64\n",
      "32.0    33\n",
      "31.2    33\n",
      "31.6    29\n",
      "0.0     28\n",
      "33.3    27\n",
      "        ..\n",
      "45.4     2\n",
      "30.3     2\n",
      "21.7     2\n",
      "48.7     2\n",
      "26.3     1\n",
      "Name: BMI, Length: 247, dtype: int64\n",
      "0.258    16\n",
      "0.207    15\n",
      "0.238    13\n",
      "0.261    13\n",
      "0.268    13\n",
      "         ..\n",
      "0.677     2\n",
      "0.296     2\n",
      "0.320     2\n",
      "0.493     1\n",
      "0.107     1\n",
      "Name: DiabetesPedigreeFunction, Length: 505, dtype: int64\n",
      "22    192\n",
      "21    166\n",
      "25    134\n",
      "24    122\n",
      "23    103\n",
      "28     98\n",
      "26     84\n",
      "27     81\n",
      "29     70\n",
      "31     58\n",
      "30     56\n",
      "41     51\n",
      "37     48\n",
      "42     48\n",
      "36     46\n",
      "38     45\n",
      "33     43\n",
      "45     42\n",
      "39     36\n",
      "40     35\n",
      "46     35\n",
      "34     34\n",
      "43     34\n",
      "32     31\n",
      "35     27\n",
      "50     21\n",
      "58     21\n",
      "44     20\n",
      "52     19\n",
      "47     17\n",
      "48     14\n",
      "49     14\n",
      "55     14\n",
      "63     13\n",
      "51     13\n",
      "54     12\n",
      "66     12\n",
      "62     10\n",
      "67     10\n",
      "53     10\n",
      "65      8\n",
      "57      7\n",
      "60      7\n",
      "56      7\n",
      "69      6\n",
      "59      6\n",
      "61      5\n",
      "64      3\n",
      "72      3\n",
      "81      3\n",
      "70      3\n",
      "68      3\n",
      "Name: Age, dtype: int64\n",
      "0    1316\n",
      "1     684\n",
      "Name: Outcome, dtype: int64\n"
     ]
    }
   ],
   "source": [
    "for col in df.columns:\n",
    "    print(df[col].value_counts())"
   ]
  },
  {
   "cell_type": "code",
   "execution_count": 21,
   "id": "8e6b22ba",
   "metadata": {},
   "outputs": [
    {
     "name": "stdout",
     "output_type": "stream",
     "text": [
      "Pregnancies :  301\n",
      "Glucose :  13\n",
      "BloodPressure :  90\n",
      "SkinThickness :  573\n",
      "Insulin :  956\n",
      "BMI :  28\n",
      "DiabetesPedigreeFunction :  0\n",
      "Age :  0\n",
      "Outcome :  1316\n"
     ]
    }
   ],
   "source": [
    "for col in df.columns:\n",
    "    column = df[col]\n",
    "    count = (column == 0).sum()\n",
    "    print(col, ': ', count)"
   ]
  },
  {
   "cell_type": "markdown",
   "id": "778bf023",
   "metadata": {},
   "source": [
    "There are lot of zeros in the data, therefore we have to use scaling."
   ]
  },
  {
   "cell_type": "code",
   "execution_count": null,
   "id": "b57946cb",
   "metadata": {},
   "outputs": [],
   "source": []
  },
  {
   "cell_type": "code",
   "execution_count": null,
   "id": "27231cca",
   "metadata": {},
   "outputs": [],
   "source": []
  },
  {
   "cell_type": "code",
   "execution_count": 10,
   "id": "a24d6ffa",
   "metadata": {
    "scrolled": true
   },
   "outputs": [
    {
     "data": {
      "image/png": "[encoded data removed]",
      "text/plain": [
       "<Figure size 1800x1080 with 9 Axes>"
      ]
     },
     "metadata": {
      "needs_background": "light"
     },
     "output_type": "display_data"
    }
   ],
   "source": [
    "plt.figure(figsize=(25, 15))\n",
    "for i, col in enumerate(df.select_dtypes(include=['float64', 'int64']).columns):\n",
    "    ax = plt.subplot(4,3, i+1)\n",
    "    sns.histplot(data=df, x=col, ax=ax,color='blue',kde=True)\n",
    "    plt.suptitle('Data distribution of continuous variables')\n",
    "    plt.tight_layout()"
   ]
  },
  {
   "cell_type": "markdown",
   "id": "a3cc4088",
   "metadata": {},
   "source": [
    "From the histogram graphs above, we can say that the dataset in not normally distributed. There are outliers in the data."
   ]
  },
  {
   "cell_type": "code",
   "execution_count": 14,
   "id": "c6e6b6f2",
   "metadata": {},
   "outputs": [
    {
     "data": {
      "text/plain": [
       "<matplotlib.legend.Legend at 0x1bba4869280>"
      ]
     },
     "execution_count": 14,
     "metadata": {},
     "output_type": "execute_result"
    },
    {
     "data": {
      "image/png": "[encoded data removed]",
      "text/plain": [
       "<Figure size 1080x360 with 1 Axes>"
      ]
     },
     "metadata": {
      "needs_background": "light"
     },
     "output_type": "display_data"
    }
   ],
   "source": [
    "plt.figure(figsize =(15,5))\n",
    "ax = df.groupby('Outcome')['Age'].plot(kind='kde', legend=True)\n",
    "plt.title('Diabetes diagnosis based on age')\n",
    "plt.xlabel('Age')\n",
    "plt.legend(title=\"Diabetes\")"
   ]
  },
  {
   "cell_type": "code",
   "execution_count": 15,
   "id": "349f4df5",
   "metadata": {},
   "outputs": [
    {
     "data": {
      "text/plain": [
       "<matplotlib.legend.Legend at 0x1bba3842ee0>"
      ]
     },
     "execution_count": 15,
     "metadata": {},
     "output_type": "execute_result"
    },
    {
     "data": {
      "image/png": "[encoded data removed]",
      "text/plain": [
       "<Figure size 1080x360 with 1 Axes>"
      ]
     },
     "metadata": {
      "needs_background": "light"
     },
     "output_type": "display_data"
    }
   ],
   "source": [
    "plt.figure(figsize =(15,5))\n",
    "ax = df.groupby('Outcome')['Glucose'].plot(kind='kde', legend=True)\n",
    "plt.title('Diabetes diagnosis based on Glucose content in blood')\n",
    "plt.xlabel('Glucose')\n",
    "plt.legend(title=\"Diabetes\")"
   ]
  },
  {
   "cell_type": "code",
   "execution_count": 16,
   "id": "8b90cd62",
   "metadata": {},
   "outputs": [
    {
     "data": {
      "text/plain": [
       "<matplotlib.legend.Legend at 0x1bba60df400>"
      ]
     },
     "execution_count": 16,
     "metadata": {},
     "output_type": "execute_result"
    },
    {
     "data": {
      "image/png": "[encoded data removed]",
      "text/plain": [
       "<Figure size 1080x360 with 1 Axes>"
      ]
     },
     "metadata": {
      "needs_background": "light"
     },
     "output_type": "display_data"
    }
   ],
   "source": [
    "plt.figure(figsize =(15,5))\n",
    "ax = df.groupby('Outcome')['Insulin'].plot(kind='kde', legend=True)\n",
    "plt.title('Diabetes diagnosis based on Insulin content in blood')\n",
    "plt.xlabel('Insulin')\n",
    "plt.legend(title=\"Diabetes\")"
   ]
  },
  {
   "cell_type": "markdown",
   "id": "79a5fc5b",
   "metadata": {},
   "source": [
    "From the above graphs:\n",
    "* People with age above 35 are more likely to be diagnosed with diabetes.\n",
    "* High glucose content in blood results in diabetes.\n",
    "* There is no relationship between insulin and diabetes."
   ]
  },
  {
   "cell_type": "code",
   "execution_count": 27,
   "id": "11f07378",
   "metadata": {
    "scrolled": true
   },
   "outputs": [
    {
     "data": {
      "text/plain": [
       "<AxesSubplot:>"
      ]
     },
     "execution_count": 27,
     "metadata": {},
     "output_type": "execute_result"
    },
    {
     "data": {
      "image/png": "[encoded data removed]",
      "text/plain": [
       "<Figure size 864x504 with 2 Axes>"
      ]
     },
     "metadata": {
      "needs_background": "light"
     },
     "output_type": "display_data"
    }
   ],
   "source": [
    "#correlation heatmap\n",
    "plt.figure(figsize = (12,7))\n",
    "sns.heatmap(df.corr(), annot = True, cmap=\"Blues\", mask=False)"
   ]
  },
  {
   "cell_type": "markdown",
   "id": "f6bde7ff",
   "metadata": {},
   "source": [
    "There are no strong correlation between the variables."
   ]
  },
  {
   "cell_type": "code",
   "execution_count": 28,
   "id": "382d6cfc",
   "metadata": {},
   "outputs": [],
   "source": [
    "# Checking multicollinearity\n",
    "from statsmodels.stats.outliers_influence import variance_inflation_factor\n",
    "from statsmodels.tools.tools import add_constant\n",
    "\n",
    "#adding constant to validate VIF\n",
    "Xdf = add_constant(df)"
   ]
  },
  {
   "cell_type": "code",
   "execution_count": 29,
   "id": "74068708",
   "metadata": {},
   "outputs": [
    {
     "name": "stdout",
     "output_type": "stream",
     "text": [
      "                    feature    VIF\n",
      "0                     const  38.88\n",
      "1               Pregnancies   1.45\n",
      "2                   Glucose   1.50\n",
      "3             BloodPressure   1.18\n",
      "4             SkinThickness   1.50\n",
      "5                   Insulin   1.45\n",
      "6                       BMI   1.36\n",
      "7  DiabetesPedigreeFunction   1.07\n",
      "8                       Age   1.59\n",
      "9                   Outcome   1.40\n"
     ]
    }
   ],
   "source": [
    "#checking multicolinearity between fixed and volatile acidity\n",
    "# X_variables = df[['fixed acidity', 'volatile acidity']]\n",
    "vif_data = pd.DataFrame()\n",
    "vif_data[\"feature\"] = Xdf.columns\n",
    "vif_data[\"VIF\"] = [round(variance_inflation_factor(Xdf.values, i), 2) for i in range(len(Xdf.columns))]\n",
    "\n",
    "print(vif_data)"
   ]
  },
  {
   "cell_type": "markdown",
   "id": "1a2e2212",
   "metadata": {},
   "source": [
    "Assuming the threshold for VIF to be 5, we can see that none of the features have a VIF > 5, hence there is no multicolinearity in the dataset."
   ]
  },
  {
   "cell_type": "code",
   "execution_count": 31,
   "id": "88c7efba",
   "metadata": {},
   "outputs": [
    {
     "data": {
      "text/plain": [
       "Index(['Pregnancies', 'Glucose', 'BloodPressure', 'SkinThickness', 'Insulin',\n",
       "       'BMI', 'DiabetesPedigreeFunction', 'Age', 'Outcome'],\n",
       "      dtype='object')"
      ]
     },
     "execution_count": 31,
     "metadata": {},
     "output_type": "execute_result"
    }
   ],
   "source": [
    "df.columns"
   ]
  },
  {
   "cell_type": "code",
   "execution_count": 35,
   "id": "88c28eed",
   "metadata": {},
   "outputs": [
    {
     "name": "stdout",
     "output_type": "stream",
     "text": [
      "Outliers in Pregnancies: 12\n",
      "Outliers in Glucose: 13\n",
      "Outliers in BloodPressure: 125\n",
      "Outliers in SkinThickness: 4\n",
      "Outliers in Insulin: 73\n",
      "Outliers in BMI: 56\n",
      "Outliers in DiabetesPedigreeFunction: 68\n",
      "Outliers in Age: 48\n"
     ]
    }
   ],
   "source": [
    "# Checking outliers - detecting and handling outliers\n",
    "columns = ['Pregnancies', 'Glucose', 'BloodPressure', 'SkinThickness', 'Insulin',\n",
    "       'BMI', 'DiabetesPedigreeFunction', 'Age']\n",
    "for col in columns:\n",
    "    q1 = df[col].quantile(0.25)\n",
    "    q3 = df[col].quantile(0.75)\n",
    "    IQR = q3-q1\n",
    "    min_Value = q1-1.5*IQR\n",
    "    max_Value = q3+1.5*IQR\n",
    "\n",
    "    outliers = []\n",
    "    for i in df[col]:\n",
    "        #print(i)\n",
    "        if i< min_Value or i>max_Value:\n",
    "            outliers.append(i)\n",
    "    print(f\"Outliers in {col}:\",len(outliers))"
   ]
  },
  {
   "cell_type": "code",
   "execution_count": 36,
   "id": "2a6ca39e",
   "metadata": {},
   "outputs": [],
   "source": [
    "from scipy.stats.mstats import winsorize\n",
    "for col_name in columns:    \n",
    "    df[col_name] = winsorize(df[col_name], limits=[0.05, 0.05],inclusive=(True, True))"
   ]
  },
  {
   "cell_type": "markdown",
   "id": "ee2ea610",
   "metadata": {},
   "source": [
    "We replaced the outliers with the upper and lower percentile values, i.e. top 5% of the data replaced by the 95th percentile value and same for lower 5% with value at 5th percentile. This is the most recommended method to deal with outliers when we have less data."
   ]
  },
  {
   "cell_type": "code",
   "execution_count": 37,
   "id": "07824a3f",
   "metadata": {},
   "outputs": [
    {
     "data": {
      "image/png": "[encoded data removed]",
      "text/plain": [
       "<Figure size 1800x1080 with 9 Axes>"
      ]
     },
     "metadata": {
      "needs_background": "light"
     },
     "output_type": "display_data"
    }
   ],
   "source": [
    "#distribution after dealing with outliers\n",
    "plt.figure(figsize=(25, 15))\n",
    "for i, col in enumerate(df.select_dtypes(include=['float64', 'int64']).columns):\n",
    "    ax = plt.subplot(4,3, i+1)\n",
    "    sns.histplot(data=df, x=col, ax=ax,color='blue',kde=True)\n",
    "    plt.suptitle('Data distribution of continuous variables')\n",
    "    plt.tight_layout()"
   ]
  },
  {
   "cell_type": "markdown",
   "id": "0d6cdf80",
   "metadata": {},
   "source": [
    "# Data Modelling with sampling"
   ]
  },
  {
   "cell_type": "code",
   "execution_count": 145,
   "id": "d923291a",
   "metadata": {},
   "outputs": [],
   "source": [
    "X=df.iloc[:,0:-1]\n",
    "y=df.iloc[:,-1]"
   ]
  },
  {
   "cell_type": "code",
   "execution_count": 146,
   "id": "8840b68e",
   "metadata": {},
   "outputs": [
    {
     "data": {
      "text/plain": [
       "0    1316\n",
       "1     684\n",
       "Name: Outcome, dtype: int64"
      ]
     },
     "execution_count": 146,
     "metadata": {},
     "output_type": "execute_result"
    }
   ],
   "source": [
    "df['Outcome'].value_counts()"
   ]
  },
  {
   "cell_type": "code",
   "execution_count": 147,
   "id": "3f19e317",
   "metadata": {},
   "outputs": [],
   "source": [
    "#Scaling\n",
    "scaler = MinMaxScaler()\n",
    "X = scaler.fit_transform(X)"
   ]
  },
  {
   "cell_type": "code",
   "execution_count": 148,
   "id": "7ce2ab8a",
   "metadata": {},
   "outputs": [],
   "source": [
    "model_comparison={}"
   ]
  },
  {
   "cell_type": "code",
   "execution_count": 149,
   "id": "15399996",
   "metadata": {},
   "outputs": [],
   "source": [
    "from sklearn.model_selection import train_test_split\n",
    "X_train,X_test,y_train,y_test=train_test_split(X,y,test_size=0.20,stratify=y,random_state=0)"
   ]
  },
  {
   "cell_type": "markdown",
   "id": "a23bb750",
   "metadata": {},
   "source": [
    "### Decision Tree model"
   ]
  },
  {
   "cell_type": "code",
   "execution_count": 150,
   "id": "3d42b212",
   "metadata": {},
   "outputs": [],
   "source": [
    "from imblearn.ensemble import BalancedBaggingClassifier\n",
    "from sklearn.tree import DecisionTreeClassifier\n",
    "\n",
    "#Create an object of the classifier.\n",
    "clf = BalancedBaggingClassifier(base_estimator=DecisionTreeClassifier(),\n",
    "                                sampling_strategy='not majority',\n",
    "                                replacement=False,\n",
    "                                random_state=0)\n",
    "\n",
    "#Train the classifier.\n",
    "clf.fit(X_train, y_train)\n",
    "y_pred = clf.predict(X_test)"
   ]
  },
  {
   "cell_type": "code",
   "execution_count": 151,
   "id": "7f04d68a",
   "metadata": {},
   "outputs": [],
   "source": [
    "accuracy = accuracy_score(y_test,y_pred)\n",
    "f1score = metrics.f1_score(y_pred,y_test,average='weighted')"
   ]
  },
  {
   "cell_type": "code",
   "execution_count": 152,
   "id": "893b0d3f",
   "metadata": {},
   "outputs": [],
   "source": [
    "kfold = KFold(n_splits=5)\n",
    "cv = cross_val_score(clf,X_train,y_train,cv=kfold)"
   ]
  },
  {
   "cell_type": "code",
   "execution_count": 153,
   "id": "27699f0e",
   "metadata": {},
   "outputs": [],
   "source": [
    "report = classification_report(y_pred,y_test, zero_division=1)"
   ]
  },
  {
   "cell_type": "code",
   "execution_count": 154,
   "id": "67cf4d67",
   "metadata": {},
   "outputs": [
    {
     "name": "stdout",
     "output_type": "stream",
     "text": [
      "Accuracy of the Decision Tree model: 97.5%\n",
      "\n",
      "f1 score of the Decision Tree model: 97.5%\n",
      "\n",
      "Cross validation accuracy of the Decision Tree model: 93.44%\n",
      "\n",
      "Classification Report:\n",
      "               precision    recall  f1-score   support\n",
      "\n",
      "           0       0.98      0.98      0.98       263\n",
      "           1       0.96      0.96      0.96       137\n",
      "\n",
      "    accuracy                           0.97       400\n",
      "   macro avg       0.97      0.97      0.97       400\n",
      "weighted avg       0.97      0.97      0.97       400\n",
      "\n"
     ]
    }
   ],
   "source": [
    "print(f\"Accuracy of the Decision Tree model: {round(accuracy*100, 2)}%\\n\")\n",
    "print(f\"f1 score of the Decision Tree model: {round(f1score*100, 2)}%\\n\")\n",
    "print(f\"Cross validation accuracy of the Decision Tree model: {round(np.mean(cv)*100, 2)}%\\n\")\n",
    "print(\"Classification Report:\\n\", report)"
   ]
  },
  {
   "cell_type": "code",
   "execution_count": 155,
   "id": "924c67e7",
   "metadata": {},
   "outputs": [],
   "source": [
    "model_comparison['Decision Tree']=[accuracy,\n",
    "                                   f1score,\n",
    "                                   np.mean(cv)]"
   ]
  },
  {
   "cell_type": "markdown",
   "id": "b1681487",
   "metadata": {},
   "source": [
    "### Random Forest model"
   ]
  },
  {
   "cell_type": "code",
   "execution_count": 156,
   "id": "ea7b355d",
   "metadata": {},
   "outputs": [
    {
     "name": "stdout",
     "output_type": "stream",
     "text": [
      "Accuracy of the Random Forest model: 97.5%\n",
      "\n",
      "f1 score of the Random Forest model: 97.51%\n",
      "\n",
      "Cross validation accuracy of the Random Forest model: 93.88%\n",
      "\n",
      "Classification Report:\n",
      "               precision    recall  f1-score   support\n",
      "\n",
      "           0       0.99      0.97      0.98       269\n",
      "           1       0.94      0.98      0.96       131\n",
      "\n",
      "    accuracy                           0.97       400\n",
      "   macro avg       0.97      0.98      0.97       400\n",
      "weighted avg       0.98      0.97      0.98       400\n",
      "\n"
     ]
    }
   ],
   "source": [
    "\n",
    "#Create an object of the classifier.\n",
    "clf = BalancedBaggingClassifier(base_estimator=RandomForestClassifier(n_estimators = 10, criterion = 'entropy', random_state = 0),\n",
    "                                sampling_strategy='not majority',\n",
    "                                replacement=False,\n",
    "                                random_state=0)\n",
    "\n",
    "#Train the classifier.\n",
    "clf.fit(X_train, y_train)\n",
    "y_pred = clf.predict(X_test)\n",
    "\n",
    "accuracy = accuracy_score(y_test,y_pred)\n",
    "f1score = metrics.f1_score(y_pred,y_test,average='weighted')\n",
    "\n",
    "kfold = KFold(n_splits=5)\n",
    "cv = cross_val_score(clf,X_train,y_train,cv=kfold)\n",
    "report = classification_report(y_pred,y_test, zero_division=1)\n",
    "\n",
    "print(f\"Accuracy of the Random Forest model: {round(accuracy*100, 2)}%\\n\")\n",
    "print(f\"f1 score of the Random Forest model: {round(f1score*100, 2)}%\\n\")\n",
    "print(f\"Cross validation accuracy of the Random Forest model: {round(np.mean(cv)*100, 2)}%\\n\")\n",
    "print(\"Classification Report:\\n\", report)"
   ]
  },
  {
   "cell_type": "code",
   "execution_count": 157,
   "id": "e17736c2",
   "metadata": {},
   "outputs": [],
   "source": [
    "model_comparison['Random Forest']=[accuracy,\n",
    "                                   f1score,\n",
    "                                   np.mean(cv)]"
   ]
  },
  {
   "cell_type": "markdown",
   "id": "deaf05f4",
   "metadata": {},
   "source": [
    "### SVC"
   ]
  },
  {
   "cell_type": "code",
   "execution_count": 158,
   "id": "91ee483c",
   "metadata": {},
   "outputs": [
    {
     "name": "stdout",
     "output_type": "stream",
     "text": [
      "Accuracy of the SVC model: 81.25%\n",
      "\n",
      "f1 score of the SVC model: 81.41%\n",
      "\n",
      "Cross validation accuracy of the SVC model: 80.13%\n",
      "\n",
      "Classification Report:\n",
      "               precision    recall  f1-score   support\n",
      "\n",
      "           0       0.87      0.85      0.86       272\n",
      "           1       0.69      0.74      0.72       128\n",
      "\n",
      "    accuracy                           0.81       400\n",
      "   macro avg       0.78      0.79      0.79       400\n",
      "weighted avg       0.82      0.81      0.81       400\n",
      "\n"
     ]
    }
   ],
   "source": [
    "\n",
    "#Create an object of the classifier.\n",
    "clf = BalancedBaggingClassifier(base_estimator=SVC(kernel = 'rbf', random_state = 0),\n",
    "                                sampling_strategy='not majority',\n",
    "                                replacement=False,\n",
    "                                random_state=0)\n",
    "\n",
    "#Train the classifier.\n",
    "clf.fit(X_train, y_train)\n",
    "y_pred = clf.predict(X_test)\n",
    "\n",
    "accuracy = accuracy_score(y_test,y_pred)\n",
    "f1score = metrics.f1_score(y_pred,y_test,average='weighted')\n",
    "\n",
    "kfold = KFold(n_splits=5)\n",
    "cv = cross_val_score(clf,X_train,y_train,cv=kfold)\n",
    "report = classification_report(y_pred,y_test, zero_division=1)\n",
    "\n",
    "print(f\"Accuracy of the SVC model: {round(accuracy*100, 2)}%\\n\")\n",
    "print(f\"f1 score of the SVC model: {round(f1score*100, 2)}%\\n\")\n",
    "print(f\"Cross validation accuracy of the SVC model: {round(np.mean(cv)*100, 2)}%\\n\")\n",
    "print(\"Classification Report:\\n\", report)"
   ]
  },
  {
   "cell_type": "code",
   "execution_count": 159,
   "id": "302c2a2a",
   "metadata": {},
   "outputs": [],
   "source": [
    "model_comparison['SVC']=[accuracy,\n",
    "                                   f1score,\n",
    "                                   np.mean(cv)]"
   ]
  },
  {
   "cell_type": "markdown",
   "id": "e1f32a03",
   "metadata": {},
   "source": [
    "### XGBoost"
   ]
  },
  {
   "cell_type": "code",
   "execution_count": 160,
   "id": "efa7e46d",
   "metadata": {},
   "outputs": [
    {
     "name": "stdout",
     "output_type": "stream",
     "text": [
      "Accuracy of the XGBoost model: 95.75%\n",
      "\n",
      "f1 score of the XGBoost model: 95.75%\n",
      "\n",
      "Cross validation accuracy of the XGBoost model: 93.31%\n",
      "\n",
      "Classification Report:\n",
      "               precision    recall  f1-score   support\n",
      "\n",
      "           0       0.97      0.97      0.97       264\n",
      "           1       0.93      0.94      0.94       136\n",
      "\n",
      "    accuracy                           0.96       400\n",
      "   macro avg       0.95      0.95      0.95       400\n",
      "weighted avg       0.96      0.96      0.96       400\n",
      "\n"
     ]
    }
   ],
   "source": [
    "\n",
    "#Create an object of the classifier.\n",
    "clf = BalancedBaggingClassifier(base_estimator=XGBClassifier(),\n",
    "                                sampling_strategy='not majority',\n",
    "                                replacement=False,\n",
    "                                random_state=0)\n",
    "\n",
    "#Train the classifier.\n",
    "clf.fit(X_train, y_train)\n",
    "y_pred = clf.predict(X_test)\n",
    "\n",
    "accuracy = accuracy_score(y_test,y_pred)\n",
    "f1score = metrics.f1_score(y_pred,y_test,average='weighted')\n",
    "\n",
    "kfold = KFold(n_splits=5)\n",
    "cv = cross_val_score(clf,X_train,y_train,cv=kfold)\n",
    "report = classification_report(y_pred,y_test, zero_division=1)\n",
    "\n",
    "print(f\"Accuracy of the XGBoost model: {round(accuracy*100, 2)}%\\n\")\n",
    "print(f\"f1 score of the XGBoost model: {round(f1score*100, 2)}%\\n\")\n",
    "print(f\"Cross validation accuracy of the XGBoost model: {round(np.mean(cv)*100, 2)}%\\n\")\n",
    "print(\"Classification Report:\\n\", report)"
   ]
  },
  {
   "cell_type": "code",
   "execution_count": 161,
   "id": "4edb385f",
   "metadata": {},
   "outputs": [],
   "source": [
    "model_comparison['XGBoost']=[accuracy,\n",
    "                                   f1score,\n",
    "                                   np.mean(cv)]"
   ]
  },
  {
   "cell_type": "markdown",
   "id": "0f340fda",
   "metadata": {},
   "source": [
    "The Random Forest model has the highest accuracy, we now apply grid search to identify best parameters for the Random Forest model."
   ]
  },
  {
   "cell_type": "code",
   "execution_count": 162,
   "id": "cf1cb116",
   "metadata": {},
   "outputs": [
    {
     "name": "stdout",
     "output_type": "stream",
     "text": [
      "Fitting 5 folds for each of 64 candidates, totalling 320 fits\n",
      "{'criterion': 'gini', 'max_depth': 9, 'n_estimators': 140}\n"
     ]
    }
   ],
   "source": [
    "# defining parameter range \n",
    "parameters = {\n",
    "    'max_depth': range (2, 10, 1),\n",
    "    'n_estimators': range(60, 220, 40),\n",
    "    'criterion' :['gini', 'entropy'],\n",
    "} \n",
    "   \n",
    "grid = GridSearchCV(RandomForestClassifier(), parameters, refit = True, verbose = 3,n_jobs=-1, scoring='accuracy', cv=5) \n",
    "   \n",
    "# fitting the model for grid search \n",
    "grid.fit(X_train, y_train) \n",
    " \n",
    "# print best parameter after tuning \n",
    "print(grid.best_params_) \n",
    "grid_predictions = grid.predict(X_test) "
   ]
  },
  {
   "cell_type": "code",
   "execution_count": 163,
   "id": "a5c73939",
   "metadata": {},
   "outputs": [
    {
     "data": {
      "text/html": [
       "<style>#sk-container-id-5 {color: black;background-color: white;}#sk-container-id-5 pre{padding: 0;}#sk-container-id-5 div.sk-toggleable {background-color: white;}#sk-container-id-5 label.sk-toggleable__label {cursor: pointer;display: block;width: 100%;margin-bottom: 0;padding: 0.3em;box-sizing: border-box;text-align: center;}#sk-container-id-5 label.sk-toggleable__label-arrow:before {content: \"▸\";float: left;margin-right: 0.25em;color: #696969;}#sk-container-id-5 label.sk-toggleable__label-arrow:hover:before {color: black;}#sk-container-id-5 div.sk-estimator:hover label.sk-toggleable__label-arrow:before {color: black;}#sk-container-id-5 div.sk-toggleable__content {max-height: 0;max-width: 0;overflow: hidden;text-align: left;background-color: #f0f8ff;}#sk-container-id-5 div.sk-toggleable__content pre {margin: 0.2em;color: black;border-radius: 0.25em;background-color: #f0f8ff;}#sk-container-id-5 input.sk-toggleable__control:checked~div.sk-toggleable__content {max-height: 200px;max-width: 100%;overflow: auto;}#sk-container-id-5 input.sk-toggleable__control:checked~label.sk-toggleable__label-arrow:before {content: \"▾\";}#sk-container-id-5 div.sk-estimator input.sk-toggleable__control:checked~label.sk-toggleable__label {background-color: #d4ebff;}#sk-container-id-5 div.sk-label input.sk-toggleable__control:checked~label.sk-toggleable__label {background-color: #d4ebff;}#sk-container-id-5 input.sk-hidden--visually {border: 0;clip: rect(1px 1px 1px 1px);clip: rect(1px, 1px, 1px, 1px);height: 1px;margin: -1px;overflow: hidden;padding: 0;position: absolute;width: 1px;}#sk-container-id-5 div.sk-estimator {font-family: monospace;background-color: #f0f8ff;border: 1px dotted black;border-radius: 0.25em;box-sizing: border-box;margin-bottom: 0.5em;}#sk-container-id-5 div.sk-estimator:hover {background-color: #d4ebff;}#sk-container-id-5 div.sk-parallel-item::after {content: \"\";width: 100%;border-bottom: 1px solid gray;flex-grow: 1;}#sk-container-id-5 div.sk-label:hover label.sk-toggleable__label {background-color: #d4ebff;}#sk-container-id-5 div.sk-serial::before {content: \"\";position: absolute;border-left: 1px solid gray;box-sizing: border-box;top: 0;bottom: 0;left: 50%;z-index: 0;}#sk-container-id-5 div.sk-serial {display: flex;flex-direction: column;align-items: center;background-color: white;padding-right: 0.2em;padding-left: 0.2em;position: relative;}#sk-container-id-5 div.sk-item {position: relative;z-index: 1;}#sk-container-id-5 div.sk-parallel {display: flex;align-items: stretch;justify-content: center;background-color: white;position: relative;}#sk-container-id-5 div.sk-item::before, #sk-container-id-5 div.sk-parallel-item::before {content: \"\";position: absolute;border-left: 1px solid gray;box-sizing: border-box;top: 0;bottom: 0;left: 50%;z-index: -1;}#sk-container-id-5 div.sk-parallel-item {display: flex;flex-direction: column;z-index: 1;position: relative;background-color: white;}#sk-container-id-5 div.sk-parallel-item:first-child::after {align-self: flex-end;width: 50%;}#sk-container-id-5 div.sk-parallel-item:last-child::after {align-self: flex-start;width: 50%;}#sk-container-id-5 div.sk-parallel-item:only-child::after {width: 0;}#sk-container-id-5 div.sk-dashed-wrapped {border: 1px dashed gray;margin: 0 0.4em 0.5em 0.4em;box-sizing: border-box;padding-bottom: 0.4em;background-color: white;}#sk-container-id-5 div.sk-label label {font-family: monospace;font-weight: bold;display: inline-block;line-height: 1.2em;}#sk-container-id-5 div.sk-label-container {text-align: center;}#sk-container-id-5 div.sk-container {/* jupyter's `normalize.less` sets `[hidden] { display: none; }` but bootstrap.min.css set `[hidden] { display: none !important; }` so we also need the `!important` here to be able to override the default hidden behavior on the sphinx rendered scikit-learn.org. See: https://github.com/scikit-learn/scikit-learn/issues/21755 */display: inline-block !important;position: relative;}#sk-container-id-5 div.sk-text-repr-fallback {display: none;}</style><div id=\"sk-container-id-5\" class=\"sk-top-container\"><div class=\"sk-text-repr-fallback\"><pre>RandomForestClassifier(max_depth=9, n_estimators=140)</pre><b>In a Jupyter environment, please rerun this cell to show the HTML representation or trust the notebook. <br />On GitHub, the HTML representation is unable to render, please try loading this page with nbviewer.org.</b></div><div class=\"sk-container\" hidden><div class=\"sk-item\"><div class=\"sk-estimator sk-toggleable\"><input class=\"sk-toggleable__control sk-hidden--visually\" id=\"sk-estimator-id-5\" type=\"checkbox\" checked><label for=\"sk-estimator-id-5\" class=\"sk-toggleable__label sk-toggleable__label-arrow\">RandomForestClassifier</label><div class=\"sk-toggleable__content\"><pre>RandomForestClassifier(max_depth=9, n_estimators=140)</pre></div></div></div></div></div>"
      ],
      "text/plain": [
       "RandomForestClassifier(max_depth=9, n_estimators=140)"
      ]
     },
     "execution_count": 163,
     "metadata": {},
     "output_type": "execute_result"
    }
   ],
   "source": [
    "grid.best_estimator_"
   ]
  },
  {
   "cell_type": "code",
   "execution_count": 167,
   "id": "c08f1c66",
   "metadata": {},
   "outputs": [
    {
     "name": "stdout",
     "output_type": "stream",
     "text": [
      "Accuracy of the XGBoost model: 97.0%\n",
      "\n",
      "f1 score of the XGBoost model: 97.01%\n",
      "\n",
      "Cross validation accuracy of the XGBoost model: 93.94%\n",
      "\n",
      "Classification Report:\n",
      "               precision    recall  f1-score   support\n",
      "\n",
      "           0       0.98      0.97      0.98       265\n",
      "           1       0.95      0.96      0.96       135\n",
      "\n",
      "    accuracy                           0.97       400\n",
      "   macro avg       0.96      0.97      0.97       400\n",
      "weighted avg       0.97      0.97      0.97       400\n",
      "\n"
     ]
    }
   ],
   "source": [
    "\n",
    "#Create an object of the classifier.\n",
    "rf_clf = BalancedBaggingClassifier(base_estimator=RandomForestClassifier(criterion='gini', n_estimators = 140, random_state=0),\n",
    "                                sampling_strategy='not majority',\n",
    "                                replacement=False,\n",
    "                                random_state=0)\n",
    "\n",
    "#Train the classifier.\n",
    "rf_clf.fit(X_train, y_train)\n",
    "y_pred = rf_clf.predict(X_test)\n",
    "\n",
    "accuracy = accuracy_score(y_test,y_pred)\n",
    "f1score = metrics.f1_score(y_pred,y_test,average='weighted')\n",
    "\n",
    "kfold = KFold(n_splits=5)\n",
    "cv = cross_val_score(clf,X_train,y_train,cv=kfold)\n",
    "report = classification_report(y_pred,y_test, zero_division=1)\n",
    "\n",
    "print(f\"Accuracy of the XGBoost model: {round(accuracy*100, 2)}%\\n\")\n",
    "print(f\"f1 score of the XGBoost model: {round(f1score*100, 2)}%\\n\")\n",
    "print(f\"Cross validation accuracy of the XGBoost model: {round(np.mean(cv)*100, 2)}%\\n\")\n",
    "print(\"Classification Report:\\n\", report)"
   ]
  },
  {
   "cell_type": "code",
   "execution_count": 165,
   "id": "b8b0a98b",
   "metadata": {},
   "outputs": [],
   "source": [
    "model_comparison['Random Forest']=[accuracy,\n",
    "                                   f1score,\n",
    "                                   np.mean(cv)]"
   ]
  },
  {
   "cell_type": "code",
   "execution_count": 166,
   "id": "0da84c04",
   "metadata": {},
   "outputs": [
    {
     "data": {
      "text/html": [
       "<style type=\"text/css\">\n",
       "#T_3222d_row0_col0, #T_3222d_row0_col1 {\n",
       "  background-color: #004d1f;\n",
       "  color: #f1f1f1;\n",
       "}\n",
       "#T_3222d_row0_col2, #T_3222d_row1_col0, #T_3222d_row1_col1 {\n",
       "  background-color: #00441b;\n",
       "  color: #f1f1f1;\n",
       "}\n",
       "#T_3222d_row1_col2 {\n",
       "  background-color: #005020;\n",
       "  color: #f1f1f1;\n",
       "}\n",
       "#T_3222d_row2_col0, #T_3222d_row2_col1 {\n",
       "  background-color: #006729;\n",
       "  color: #f1f1f1;\n",
       "}\n",
       "#T_3222d_row2_col2 {\n",
       "  background-color: #005221;\n",
       "  color: #f1f1f1;\n",
       "}\n",
       "#T_3222d_row3_col0, #T_3222d_row3_col1, #T_3222d_row3_col2 {\n",
       "  background-color: #f7fcf5;\n",
       "  color: #000000;\n",
       "}\n",
       "</style>\n",
       "<table id=\"T_3222d\">\n",
       "  <thead>\n",
       "    <tr>\n",
       "      <th class=\"blank level0\" >&nbsp;</th>\n",
       "      <th id=\"T_3222d_level0_col0\" class=\"col_heading level0 col0\" >Model Accuracy</th>\n",
       "      <th id=\"T_3222d_level0_col1\" class=\"col_heading level0 col1\" >Model F1-Score</th>\n",
       "      <th id=\"T_3222d_level0_col2\" class=\"col_heading level0 col2\" >CV Accuracy</th>\n",
       "    </tr>\n",
       "  </thead>\n",
       "  <tbody>\n",
       "    <tr>\n",
       "      <th id=\"T_3222d_level0_row0\" class=\"row_heading level0 row0\" >Random Forest</th>\n",
       "      <td id=\"T_3222d_row0_col0\" class=\"data row0 col0\" >97.00%</td>\n",
       "      <td id=\"T_3222d_row0_col1\" class=\"data row0 col1\" >97.01%</td>\n",
       "      <td id=\"T_3222d_row0_col2\" class=\"data row0 col2\" >93.94%</td>\n",
       "    </tr>\n",
       "    <tr>\n",
       "      <th id=\"T_3222d_level0_row1\" class=\"row_heading level0 row1\" >Decision Tree</th>\n",
       "      <td id=\"T_3222d_row1_col0\" class=\"data row1 col0\" >97.50%</td>\n",
       "      <td id=\"T_3222d_row1_col1\" class=\"data row1 col1\" >97.50%</td>\n",
       "      <td id=\"T_3222d_row1_col2\" class=\"data row1 col2\" >93.44%</td>\n",
       "    </tr>\n",
       "    <tr>\n",
       "      <th id=\"T_3222d_level0_row2\" class=\"row_heading level0 row2\" >XGBoost</th>\n",
       "      <td id=\"T_3222d_row2_col0\" class=\"data row2 col0\" >95.75%</td>\n",
       "      <td id=\"T_3222d_row2_col1\" class=\"data row2 col1\" >95.75%</td>\n",
       "      <td id=\"T_3222d_row2_col2\" class=\"data row2 col2\" >93.31%</td>\n",
       "    </tr>\n",
       "    <tr>\n",
       "      <th id=\"T_3222d_level0_row3\" class=\"row_heading level0 row3\" >SVC</th>\n",
       "      <td id=\"T_3222d_row3_col0\" class=\"data row3 col0\" >81.25%</td>\n",
       "      <td id=\"T_3222d_row3_col1\" class=\"data row3 col1\" >81.41%</td>\n",
       "      <td id=\"T_3222d_row3_col2\" class=\"data row3 col2\" >80.13%</td>\n",
       "    </tr>\n",
       "  </tbody>\n",
       "</table>\n"
      ],
      "text/plain": [
       "<pandas.io.formats.style.Styler at 0x1bba38822e0>"
      ]
     },
     "execution_count": 166,
     "metadata": {},
     "output_type": "execute_result"
    }
   ],
   "source": [
    "#Details of all the models in comparison\n",
    "models_df=pd.DataFrame(model_comparison).T\n",
    "models_df.columns=['Model Accuracy','Model F1-Score','CV Accuracy']\n",
    "models_df=models_df.sort_values(by='CV Accuracy',ascending=False)\n",
    "models_df.style.format(\"{:.2%}\").background_gradient(cmap='Greens')"
   ]
  },
  {
   "cell_type": "markdown",
   "id": "46d5d41d",
   "metadata": {},
   "source": [
    "The random forest model is selected as the best model because of its advantages over the decision tree model and it also has highest cross validation accuracy. the random forest model will avoid overfitting, robust to outliers, stable and less impacted by noise in the data."
   ]
  },
  {
   "cell_type": "markdown",
   "id": "2c64a620",
   "metadata": {},
   "source": [
    "# Export model for deployment"
   ]
  },
  {
   "cell_type": "code",
   "execution_count": 169,
   "id": "7459c4e6",
   "metadata": {},
   "outputs": [],
   "source": [
    "# Creating a pickle file for the classifier\n",
    "filename = 'diabetes_model.pkl'\n",
    "pickle_out =  open(filename, 'wb')\n",
    "pickle.dump(rf_clf, open(filename, 'wb'))\n",
    "pickle_out.close()"
   ]
  },
  {
   "cell_type": "markdown",
   "id": "eecd11c7",
   "metadata": {},
   "source": [
    "# Data Modelling without sampling and scaling"
   ]
  },
  {
   "cell_type": "code",
   "execution_count": 105,
   "id": "f28487cf",
   "metadata": {},
   "outputs": [],
   "source": [
    "X=df.iloc[:,0:-1]\n",
    "y=df.iloc[:,-1]"
   ]
  },
  {
   "cell_type": "code",
   "execution_count": 107,
   "id": "27369701",
   "metadata": {},
   "outputs": [],
   "source": [
    "from sklearn.model_selection import train_test_split\n",
    "X_train,X_test,y_train,y_test=train_test_split(X,y,test_size=0.20,stratify=y,random_state=0)\n",
    "\n",
    "modelcomp = {}"
   ]
  },
  {
   "cell_type": "code",
   "execution_count": 110,
   "id": "1fdd8733",
   "metadata": {},
   "outputs": [],
   "source": [
    "model_dict = {\"random forest\": RandomForestClassifier(n_estimators = 10, criterion = 'entropy', random_state = 0),\n",
    "             \"svc\": SVC(kernel = 'rbf', random_state = 0),\n",
    "             'decision tree': DecisionTreeClassifier(criterion = 'entropy', random_state = 0),\n",
    "             \"xgb\": XGBClassifier()}"
   ]
  },
  {
   "cell_type": "code",
   "execution_count": 119,
   "id": "5f731542",
   "metadata": {},
   "outputs": [],
   "source": [
    "def build_model(model_name):\n",
    "#Create an object of the classifier.\n",
    "    model = model_dict.get(model_name)\n",
    "\n",
    "    #Train the classifier.\n",
    "    model.fit(X_train, y_train)\n",
    "    y_pred = model.predict(X_test)\n",
    "\n",
    "    accuracy = accuracy_score(y_test,y_pred)\n",
    "    f1score = metrics.f1_score(y_pred,y_test,average='weighted')\n",
    "\n",
    "    kfold = KFold(n_splits=5)\n",
    "    cv = cross_val_score(clf,X_train,y_train,cv=kfold)\n",
    "    report = classification_report(y_pred,y_test, zero_division=1)\n",
    "\n",
    "    print(f\"Accuracy of the {model_name} model: {round(accuracy*100, 2)}%\\n\")\n",
    "    print(f\"f1 score of the {model_name} model: {round(f1score*100, 2)}%\\n\")\n",
    "    print(f\"Cross validation accuracy of the {model_name} model: {round(np.mean(cv)*100, 2)}%\\n\")\n",
    "    print(f\"Classification Report of {model_name}:\\n\", report)\n",
    "    \n",
    "    \n",
    "    return model, accuracy,f1score, np.mean(cv)"
   ]
  },
  {
   "cell_type": "code",
   "execution_count": 120,
   "id": "4f386bd4",
   "metadata": {},
   "outputs": [
    {
     "name": "stdout",
     "output_type": "stream",
     "text": [
      "Accuracy of the random forest model: 98.0%\n",
      "\n",
      "f1 score of the random forest model: 98.01%\n",
      "\n",
      "Cross validation accuracy of the random forest model: 93.62%\n",
      "\n",
      "Classification Report of random forest:\n",
      "               precision    recall  f1-score   support\n",
      "\n",
      "           0       0.99      0.98      0.98       267\n",
      "           1       0.96      0.98      0.97       133\n",
      "\n",
      "    accuracy                           0.98       400\n",
      "   macro avg       0.97      0.98      0.98       400\n",
      "weighted avg       0.98      0.98      0.98       400\n",
      "\n"
     ]
    }
   ],
   "source": [
    "rfmodel, acc, f1, cv = build_model(\"random forest\")"
   ]
  },
  {
   "cell_type": "code",
   "execution_count": 121,
   "id": "80d7693b",
   "metadata": {},
   "outputs": [],
   "source": [
    "model_comparison['Random Forest']=[acc,\n",
    "                                   f1,\n",
    "                                   cv]"
   ]
  },
  {
   "cell_type": "code",
   "execution_count": 122,
   "id": "d8562034",
   "metadata": {},
   "outputs": [
    {
     "name": "stdout",
     "output_type": "stream",
     "text": [
      "Accuracy of the decision tree model: 98.5%\n",
      "\n",
      "f1 score of the decision tree model: 98.49%\n",
      "\n",
      "Cross validation accuracy of the decision tree model: 93.62%\n",
      "\n",
      "Classification Report of decision tree:\n",
      "               precision    recall  f1-score   support\n",
      "\n",
      "           0       0.98      1.00      0.99       257\n",
      "           1       1.00      0.96      0.98       143\n",
      "\n",
      "    accuracy                           0.98       400\n",
      "   macro avg       0.99      0.98      0.98       400\n",
      "weighted avg       0.99      0.98      0.98       400\n",
      "\n"
     ]
    }
   ],
   "source": [
    "dtmodel, acc, f1, cv = build_model(\"decision tree\")"
   ]
  },
  {
   "cell_type": "code",
   "execution_count": 123,
   "id": "5f050da1",
   "metadata": {},
   "outputs": [],
   "source": [
    "model_comparison['Decision Tree']=[acc,\n",
    "                                   f1,\n",
    "                                   cv]"
   ]
  },
  {
   "cell_type": "code",
   "execution_count": 124,
   "id": "e75237f9",
   "metadata": {},
   "outputs": [
    {
     "name": "stdout",
     "output_type": "stream",
     "text": [
      "Accuracy of the svc model: 79.25%\n",
      "\n",
      "f1 score of the svc model: 80.06%\n",
      "\n",
      "Cross validation accuracy of the svc model: 93.62%\n",
      "\n",
      "Classification Report of svc:\n",
      "               precision    recall  f1-score   support\n",
      "\n",
      "           0       0.90      0.80      0.85       296\n",
      "           1       0.58      0.76      0.66       104\n",
      "\n",
      "    accuracy                           0.79       400\n",
      "   macro avg       0.74      0.78      0.75       400\n",
      "weighted avg       0.82      0.79      0.80       400\n",
      "\n"
     ]
    }
   ],
   "source": [
    "svcmodel, acc, f1, cv = build_model('svc')"
   ]
  },
  {
   "cell_type": "code",
   "execution_count": 125,
   "id": "5410d418",
   "metadata": {},
   "outputs": [],
   "source": [
    "model_comparison['SVC']=[acc,\n",
    "                                   f1,\n",
    "                                   cv]"
   ]
  },
  {
   "cell_type": "code",
   "execution_count": 126,
   "id": "25d88000",
   "metadata": {},
   "outputs": [
    {
     "name": "stdout",
     "output_type": "stream",
     "text": [
      "Accuracy of the xgb model: 98.5%\n",
      "\n",
      "f1 score of the xgb model: 98.5%\n",
      "\n",
      "Cross validation accuracy of the xgb model: 93.62%\n",
      "\n",
      "Classification Report of xgb:\n",
      "               precision    recall  f1-score   support\n",
      "\n",
      "           0       0.98      0.99      0.99       261\n",
      "           1       0.99      0.97      0.98       139\n",
      "\n",
      "    accuracy                           0.98       400\n",
      "   macro avg       0.99      0.98      0.98       400\n",
      "weighted avg       0.99      0.98      0.98       400\n",
      "\n"
     ]
    }
   ],
   "source": [
    "xgbmodel, acc, f1, cv = build_model('xgb')"
   ]
  },
  {
   "cell_type": "code",
   "execution_count": 127,
   "id": "e90f1370",
   "metadata": {},
   "outputs": [],
   "source": [
    "model_comparison['XGB']=[acc,\n",
    "                                   f1,\n",
    "                                   cv]"
   ]
  },
  {
   "cell_type": "code",
   "execution_count": 128,
   "id": "e3d0eda3",
   "metadata": {},
   "outputs": [
    {
     "name": "stdout",
     "output_type": "stream",
     "text": [
      "{'Glucose': 0.2227099, 'Age': 0.14506266, 'BMI': 0.14340621, 'Insulin': 0.120468095, 'DiabetesPedigreeFunction': 0.09725704, 'BloodPressure': 0.09082632, 'Pregnancies': 0.09071489, 'SkinThickness': 0.08955492}\n"
     ]
    }
   ],
   "source": [
    "important = xgbmodel.feature_importances_\n",
    "\n",
    "Features_important={}\n",
    "featureNames = X.columns.values\n",
    "\n",
    "for i in range(len(important)):\n",
    "    Features_important[featureNames[i]]=important[i]\n",
    "    \n",
    "Important_features = dict(sorted(Features_important.items(),key= lambda x:x[1],reverse=True))\n",
    "print(Important_features)"
   ]
  },
  {
   "cell_type": "code",
   "execution_count": 129,
   "id": "c94dff34",
   "metadata": {},
   "outputs": [
    {
     "data": {
      "text/html": [
       "<style type=\"text/css\">\n",
       "#T_90e9b_row0_col0, #T_90e9b_row0_col1, #T_90e9b_row1_col0, #T_90e9b_row1_col1 {\n",
       "  background-color: #00441b;\n",
       "  color: #f1f1f1;\n",
       "}\n",
       "#T_90e9b_row0_col2, #T_90e9b_row1_col2, #T_90e9b_row2_col2, #T_90e9b_row3_col2, #T_90e9b_row4_col0, #T_90e9b_row4_col1, #T_90e9b_row4_col2 {\n",
       "  background-color: #f7fcf5;\n",
       "  color: #000000;\n",
       "}\n",
       "#T_90e9b_row2_col0, #T_90e9b_row2_col1, #T_90e9b_row3_col0, #T_90e9b_row3_col1 {\n",
       "  background-color: #004c1e;\n",
       "  color: #f1f1f1;\n",
       "}\n",
       "</style>\n",
       "<table id=\"T_90e9b\">\n",
       "  <thead>\n",
       "    <tr>\n",
       "      <th class=\"blank level0\" >&nbsp;</th>\n",
       "      <th id=\"T_90e9b_level0_col0\" class=\"col_heading level0 col0\" >Model Accuracy</th>\n",
       "      <th id=\"T_90e9b_level0_col1\" class=\"col_heading level0 col1\" >Model F1-Score</th>\n",
       "      <th id=\"T_90e9b_level0_col2\" class=\"col_heading level0 col2\" >CV Accuracy</th>\n",
       "    </tr>\n",
       "  </thead>\n",
       "  <tbody>\n",
       "    <tr>\n",
       "      <th id=\"T_90e9b_level0_row0\" class=\"row_heading level0 row0\" >xgb</th>\n",
       "      <td id=\"T_90e9b_row0_col0\" class=\"data row0 col0\" >98.50%</td>\n",
       "      <td id=\"T_90e9b_row0_col1\" class=\"data row0 col1\" >98.50%</td>\n",
       "      <td id=\"T_90e9b_row0_col2\" class=\"data row0 col2\" >93.62%</td>\n",
       "    </tr>\n",
       "    <tr>\n",
       "      <th id=\"T_90e9b_level0_row1\" class=\"row_heading level0 row1\" >decision tree</th>\n",
       "      <td id=\"T_90e9b_row1_col0\" class=\"data row1 col0\" >98.50%</td>\n",
       "      <td id=\"T_90e9b_row1_col1\" class=\"data row1 col1\" >98.49%</td>\n",
       "      <td id=\"T_90e9b_row1_col2\" class=\"data row1 col2\" >93.62%</td>\n",
       "    </tr>\n",
       "    <tr>\n",
       "      <th id=\"T_90e9b_level0_row2\" class=\"row_heading level0 row2\" >Random Forest</th>\n",
       "      <td id=\"T_90e9b_row2_col0\" class=\"data row2 col0\" >98.00%</td>\n",
       "      <td id=\"T_90e9b_row2_col1\" class=\"data row2 col1\" >98.01%</td>\n",
       "      <td id=\"T_90e9b_row2_col2\" class=\"data row2 col2\" >93.62%</td>\n",
       "    </tr>\n",
       "    <tr>\n",
       "      <th id=\"T_90e9b_level0_row3\" class=\"row_heading level0 row3\" >random forest</th>\n",
       "      <td id=\"T_90e9b_row3_col0\" class=\"data row3 col0\" >98.00%</td>\n",
       "      <td id=\"T_90e9b_row3_col1\" class=\"data row3 col1\" >98.01%</td>\n",
       "      <td id=\"T_90e9b_row3_col2\" class=\"data row3 col2\" >93.62%</td>\n",
       "    </tr>\n",
       "    <tr>\n",
       "      <th id=\"T_90e9b_level0_row4\" class=\"row_heading level0 row4\" >svc</th>\n",
       "      <td id=\"T_90e9b_row4_col0\" class=\"data row4 col0\" >79.25%</td>\n",
       "      <td id=\"T_90e9b_row4_col1\" class=\"data row4 col1\" >80.06%</td>\n",
       "      <td id=\"T_90e9b_row4_col2\" class=\"data row4 col2\" >93.62%</td>\n",
       "    </tr>\n",
       "  </tbody>\n",
       "</table>\n"
      ],
      "text/plain": [
       "<pandas.io.formats.style.Styler at 0x1bbaad2a850>"
      ]
     },
     "execution_count": 129,
     "metadata": {},
     "output_type": "execute_result"
    }
   ],
   "source": [
    "#Details of all the models in comparison\n",
    "models_df=pd.DataFrame(modelcomp).T\n",
    "models_df.columns=['Model Accuracy','Model F1-Score','CV Accuracy']\n",
    "models_df=models_df.sort_values(by='Model F1-Score',ascending=False)\n",
    "models_df.style.format(\"{:.2%}\").background_gradient(cmap='Greens')"
   ]
  },
  {
   "cell_type": "markdown",
   "id": "ab40b303",
   "metadata": {},
   "source": [
    "# Data Modelling replacing zeros with median"
   ]
  },
  {
   "cell_type": "code",
   "execution_count": 134,
   "id": "2fbd67d2",
   "metadata": {},
   "outputs": [],
   "source": [
    "X=df.iloc[:,0:-1]\n",
    "y=df.iloc[:,-1]"
   ]
  },
  {
   "cell_type": "code",
   "execution_count": 135,
   "id": "9f5ac02c",
   "metadata": {},
   "outputs": [
    {
     "name": "stdout",
     "output_type": "stream",
     "text": [
      "Pregnancies :  301\n",
      "Glucose :  0\n",
      "BloodPressure :  0\n",
      "SkinThickness :  573\n",
      "Insulin :  956\n",
      "BMI :  0\n",
      "DiabetesPedigreeFunction :  0\n",
      "Age :  0\n"
     ]
    }
   ],
   "source": [
    "for col in X.columns:\n",
    "    column = X[col]\n",
    "    count = (column == 0).sum()\n",
    "    print(col, ': ', count)"
   ]
  },
  {
   "cell_type": "code",
   "execution_count": 136,
   "id": "c15f5ba0",
   "metadata": {},
   "outputs": [],
   "source": [
    "X[['SkinThickness','Insulin']] = X[['SkinThickness','Insulin']].replace(0,np.NaN)"
   ]
  },
  {
   "cell_type": "code",
   "execution_count": 137,
   "id": "eb68700c",
   "metadata": {},
   "outputs": [
    {
     "data": {
      "text/plain": [
       "Pregnancies                   0\n",
       "Glucose                       0\n",
       "BloodPressure                 0\n",
       "SkinThickness               573\n",
       "Insulin                     956\n",
       "BMI                           0\n",
       "DiabetesPedigreeFunction      0\n",
       "Age                           0\n",
       "dtype: int64"
      ]
     },
     "execution_count": 137,
     "metadata": {},
     "output_type": "execute_result"
    }
   ],
   "source": [
    "X.isna().sum()"
   ]
  },
  {
   "cell_type": "code",
   "execution_count": 138,
   "id": "97c4adc4",
   "metadata": {},
   "outputs": [],
   "source": [
    "X['SkinThickness'].fillna(X['SkinThickness'].median(), inplace=True)\n",
    "X['Insulin'].fillna(X['Insulin'].median(), inplace=True)"
   ]
  },
  {
   "cell_type": "code",
   "execution_count": 139,
   "id": "70609edf",
   "metadata": {},
   "outputs": [],
   "source": [
    "from sklearn.model_selection import train_test_split\n",
    "X_train,X_test,y_train,y_test=train_test_split(X,y,test_size=0.20,stratify=y,random_state=0)"
   ]
  },
  {
   "cell_type": "code",
   "execution_count": 140,
   "id": "a66a5371",
   "metadata": {},
   "outputs": [
    {
     "name": "stdout",
     "output_type": "stream",
     "text": [
      "Accuracy of the random forest model: 96.5%\n",
      "\n",
      "f1 score of the random forest model: 96.5%\n",
      "\n",
      "Cross validation accuracy of the random forest model: 94.44%\n",
      "\n",
      "Classification Report of random forest:\n",
      "               precision    recall  f1-score   support\n",
      "\n",
      "           0       0.97      0.97      0.97       263\n",
      "           1       0.95      0.95      0.95       137\n",
      "\n",
      "    accuracy                           0.96       400\n",
      "   macro avg       0.96      0.96      0.96       400\n",
      "weighted avg       0.96      0.96      0.96       400\n",
      "\n"
     ]
    }
   ],
   "source": [
    "rfmodel, acc, f1, cv = build_model(\"random forest\")"
   ]
  },
  {
   "cell_type": "code",
   "execution_count": 141,
   "id": "7c916b3c",
   "metadata": {},
   "outputs": [
    {
     "name": "stdout",
     "output_type": "stream",
     "text": [
      "Accuracy of the decision tree model: 98.0%\n",
      "\n",
      "f1 score of the decision tree model: 97.99%\n",
      "\n",
      "Cross validation accuracy of the decision tree model: 94.44%\n",
      "\n",
      "Classification Report of decision tree:\n",
      "               precision    recall  f1-score   support\n",
      "\n",
      "           0       0.97      1.00      0.98       255\n",
      "           1       1.00      0.94      0.97       145\n",
      "\n",
      "    accuracy                           0.98       400\n",
      "   macro avg       0.98      0.97      0.98       400\n",
      "weighted avg       0.98      0.98      0.98       400\n",
      "\n"
     ]
    }
   ],
   "source": [
    "dtmodel, acc, f1, cv = build_model(\"decision tree\")"
   ]
  },
  {
   "cell_type": "code",
   "execution_count": 142,
   "id": "b09b0125",
   "metadata": {},
   "outputs": [
    {
     "name": "stdout",
     "output_type": "stream",
     "text": [
      "Accuracy of the svc model: 78.5%\n",
      "\n",
      "f1 score of the svc model: 79.31%\n",
      "\n",
      "Cross validation accuracy of the svc model: 94.44%\n",
      "\n",
      "Classification Report of svc:\n",
      "               precision    recall  f1-score   support\n",
      "\n",
      "           0       0.90      0.80      0.85       295\n",
      "           1       0.57      0.74      0.64       105\n",
      "\n",
      "    accuracy                           0.79       400\n",
      "   macro avg       0.73      0.77      0.75       400\n",
      "weighted avg       0.81      0.79      0.79       400\n",
      "\n"
     ]
    }
   ],
   "source": [
    "svcmodel, acc, f1, cv = build_model('svc')"
   ]
  },
  {
   "cell_type": "code",
   "execution_count": 143,
   "id": "f24568b3",
   "metadata": {},
   "outputs": [
    {
     "name": "stdout",
     "output_type": "stream",
     "text": [
      "Accuracy of the xgb model: 98.25%\n",
      "\n",
      "f1 score of the xgb model: 98.25%\n",
      "\n",
      "Cross validation accuracy of the xgb model: 94.44%\n",
      "\n",
      "Classification Report of xgb:\n",
      "               precision    recall  f1-score   support\n",
      "\n",
      "           0       0.99      0.98      0.99       264\n",
      "           1       0.97      0.98      0.97       136\n",
      "\n",
      "    accuracy                           0.98       400\n",
      "   macro avg       0.98      0.98      0.98       400\n",
      "weighted avg       0.98      0.98      0.98       400\n",
      "\n"
     ]
    }
   ],
   "source": [
    "xgbmodel, acc, f1, cv = build_model('xgb')"
   ]
  }
 ],
 "metadata": {
  "kernelspec": {
   "display_name": "Python 3 (ipykernel)",
   "language": "python",
   "name": "python3"
  },
  "language_info": {
   "codemirror_mode": {
    "name": "ipython",
    "version": 3
   },
   "file_extension": ".py",
   "mimetype": "text/x-python",
   "name": "python",
   "nbconvert_exporter": "python",
   "pygments_lexer": "ipython3",
   "version": "3.9.12"
  }
 },
 "nbformat": 4,
 "nbformat_minor": 5
}
